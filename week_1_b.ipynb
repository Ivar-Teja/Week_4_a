{
 "cells": [
  {
   "cell_type": "markdown",
   "metadata": {},
   "source": [
    "# Topic : Setting Up Department Store in Hyderabd, India"
   ]
  },
  {
   "cell_type": "markdown",
   "metadata": {},
   "source": [
    "## Introduction\n",
    "\n",
    "Over the years, the goods available for sale to the public have increased in both range and variety and now encompass everything and anything that a customer might possibly need or want.  Today it is possible to purchase clothes, toiletries, cosmetics, gardening materials, sporting goods, home appliances etc etc etc  under one roof i.e the **Department Store**.  However, some stores have become renowned from a certain degree of specialization while others for offering goods at discount prices whereas most stores offer a general discount of prices at particular times of the year."
   ]
  },
  {
   "cell_type": "markdown",
   "metadata": {},
   "source": [
    "## Business Problem\n",
    "\n",
    "A retail company wants to set up Department store in Hyderabad city. But it is not exactly sure about which Neighbourhood(s) to open the store(s) in. The chosen locations should ideally have a considerable population so that there is more store footfall & near to work centres/residential districts for easier access to a large number of citizens. There are 2 business questions that need to be answered here.\n",
    "\n",
    "1. Which part (area) of the city should the company open the department store first.\n",
    "\n",
    "2. Which Neighbourhood(s) would be ideal in that part (as in point 1) setting up such a department store in the city.\n",
    "\n",
    "Again, the most important point would be, the `area` chosen should have atmost 1 Department store that exists or must have no Department store.\n"
   ]
  },
  {
   "cell_type": "markdown",
   "metadata": {},
   "source": [
    "## Target audience\n",
    "\n",
    "This project is particularly useful to the property developers and investors looking to open or invest in a new **Depatmental Store** in the capital of **Telangana** i.e **Hyderabad** in **India**."
   ]
  },
  {
   "cell_type": "code",
   "execution_count": null,
   "metadata": {},
   "outputs": [],
   "source": []
  }
 ],
 "metadata": {
  "kernelspec": {
   "display_name": "Python 3",
   "language": "python",
   "name": "python3"
  },
  "language_info": {
   "codemirror_mode": {
    "name": "ipython",
    "version": 3
   },
   "file_extension": ".py",
   "mimetype": "text/x-python",
   "name": "python",
   "nbconvert_exporter": "python",
   "pygments_lexer": "ipython3",
   "version": "3.7.6"
  }
 },
 "nbformat": 4,
 "nbformat_minor": 4
}
